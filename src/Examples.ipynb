{
 "cells": [
  {
   "cell_type": "code",
   "execution_count": 31,
   "metadata": {},
   "outputs": [
    {
     "name": "stderr",
     "output_type": "stream",
     "text": [
      "WARNING: replacing module ANOVA.\n"
     ]
    },
    {
     "data": {
      "text/plain": [
       "Main.ANOVA"
      ]
     },
     "execution_count": 31,
     "metadata": {},
     "output_type": "execute_result"
    }
   ],
   "source": [
    "include(\"ANOVA.jl\")"
   ]
  },
  {
   "cell_type": "markdown",
   "metadata": {},
   "source": [
    "## One-way ANOVA"
   ]
  },
  {
   "cell_type": "code",
   "execution_count": 3,
   "metadata": {},
   "outputs": [
    {
     "name": "stdout",
     "output_type": "stream",
     "text": [
      "One-way Anova\n",
      "-----------------------------------------------\n",
      "source\tSS\tdf\tMS\tF\tProb\n",
      "-----------------------------------------------\n",
      "columns\t53.723\t4\t13.431\t6.049\t0.00233\n",
      "error\t44.408\t20\t2.220\tNaN\tNaN\n",
      "total\t98.131\t24\tNaN\tNaN\tNaN\n",
      "-----------------------------------------------\n"
     ]
    }
   ],
   "source": [
    "anova_test_data = [\n",
    "    1.5377    0.6923    1.6501    3.7950    5.6715\n",
    "    2.8339    1.5664    6.0349    3.8759    3.7925\n",
    "   -1.2588    2.3426    3.7254    5.4897    5.7172\n",
    "    1.8622    5.5784    2.9369    5.4090    6.6302\n",
    "    1.3188    4.7694    3.7147    5.4172    5.4889\n",
    "]\n",
    "r, f, p = ANOVA.anova(anova_test_data);"
   ]
  },
  {
   "cell_type": "code",
   "execution_count": 4,
   "metadata": {},
   "outputs": [
    {
     "name": "stdout",
     "output_type": "stream",
     "text": [
      "One-way Anova\n",
      "-----------------------------------------------\n",
      "source\tSS\tdf\tMS\tF\tProb\n",
      "-----------------------------------------------\n",
      "columns\t53.723\t4\t13.431\t6.049\t0.00233\n",
      "error\t44.408\t20\t2.220\tNaN\tNaN\n",
      "total\t98.131\t24\tNaN\tNaN\tNaN\n",
      "-----------------------------------------------\n"
     ]
    }
   ],
   "source": [
    "anova_test_Y = [\n",
    "    1.5377, 2.8339, -1.2588, 1.8622, 1.3188, \n",
    "    0.6923, 1.5664, 2.3426, 5.5784, 4.7694,  \n",
    "    1.6501, 6.0349, 3.7254, 2.9369, 3.7147,\n",
    "    3.7950, 3.8759, 5.4897, 5.4090, 5.4172,\n",
    "    5.6715, 3.7925, 5.7172, 6.6302, 5.4889]\n",
    "anova_test_F = [\n",
    "    1, 1, 1, 1, 1,\n",
    "    2, 2, 2, 2, 2, \n",
    "    3, 3, 3, 3, 3,\n",
    "    4, 4, 4, 4, 4, \n",
    "    5, 5, 5, 5, 5];\n",
    "\n",
    "k = ANOVA.anova(anova_test_Y, anova_test_F);"
   ]
  },
  {
   "cell_type": "markdown",
   "metadata": {},
   "source": [
    "# One-way Repeated Measures ANOVA"
   ]
  },
  {
   "cell_type": "code",
   "execution_count": 33,
   "metadata": {},
   "outputs": [
    {
     "name": "stdout",
     "output_type": "stream",
     "text": [
      "One-way repeated measures ANOVA\n",
      "-----------------------------------------------\n",
      "source\tSS\tdf\tMS\tF\tProb\n",
      "-----------------------------------------------\n",
      "factor\t169.437\t2\t84.718\t12.364\t0.00744\n",
      "error\t41.112\t6\t6.852\tNaN\tNaN\n",
      "S\t74.253\t3\t24.751\tNaN\tNaN\n",
      "total\t284.802\t11\tNaN\tNaN\tNaN\n",
      "-----------------------------------------------\n"
     ]
    }
   ],
   "source": [
    "rm_anova_Y = [\n",
    "    -4.4297,  4.7513,  3.2971, -1.4606, \n",
    "     4.8458,  5.1163,  6.0739, -1.9225, \n",
    "     6.1542, 10.4794, 12.4438,  9.2150]\n",
    "\n",
    "rm_anova_S = [1, 2, 3, 4, 1, 2, 3, 4, 1, 2, 3, 4]\n",
    "rm_anova_F = [1, 1, 1, 1, 2, 2, 2, 2, 3, 3, 3, 3]\n",
    "ANOVA.rm_anova(rm_anova_Y, rm_anova_S, rm_anova_F, name=:factor);"
   ]
  },
  {
   "cell_type": "code",
   "execution_count": null,
   "metadata": {},
   "outputs": [],
   "source": []
  }
 ],
 "metadata": {
  "kernelspec": {
   "display_name": "Julia 0.7.0",
   "language": "julia",
   "name": "julia-0.7"
  },
  "language_info": {
   "file_extension": ".jl",
   "mimetype": "application/julia",
   "name": "julia",
   "version": "0.7.0"
  }
 },
 "nbformat": 4,
 "nbformat_minor": 2
}
